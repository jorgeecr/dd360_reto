{
 "cells": [
  {
   "cell_type": "code",
   "execution_count": 1,
   "id": "297d46dc-948c-4dc7-b012-4e985a33862f",
   "metadata": {},
   "outputs": [],
   "source": [
    "import requests"
   ]
  },
  {
   "cell_type": "code",
   "execution_count": 8,
   "id": "edf21d0e-d63c-46e4-bf6d-bbbfccd1825c",
   "metadata": {},
   "outputs": [],
   "source": [
    "url = \"http://localhost:8000/chatbot\""
   ]
  },
  {
   "cell_type": "code",
   "execution_count": 19,
   "id": "b97c47f8-4a20-40b1-861a-9025f175c80b",
   "metadata": {},
   "outputs": [],
   "source": [
    "data = {\n",
    "    \"message\": \"¿Cuál es el precio promedio de los departamentos en venta?\",\n",
    "    \"use_openai\": True,\n",
    "    \"csv_file\": \"listings.csv\"\n",
    "}\n"
   ]
  },
  {
   "cell_type": "code",
   "execution_count": 20,
   "id": "7d6e0386-c8f0-493e-a9fb-f4fa262dc681",
   "metadata": {},
   "outputs": [
    {
     "name": "stdout",
     "output_type": "stream",
     "text": [
      "Chatbot Response: El precio promedio de los departamentos en venta es $7,884,095.44\n"
     ]
    }
   ],
   "source": [
    "response = requests.post(url, data=data)\n",
    "\n",
    "if response.status_code == 200:\n",
    "    result = response.json()\n",
    "    print(f\"Chatbot Response: {result['response']}\")\n",
    "else:\n",
    "    print(f\"Error: {response.status_code}, {response.text}\")"
   ]
  },
  {
   "cell_type": "code",
   "execution_count": null,
   "id": "56a3cdcc-170c-4749-ad6c-e22caa99794f",
   "metadata": {},
   "outputs": [],
   "source": []
  }
 ],
 "metadata": {
  "kernelspec": {
   "display_name": "Python 3 (ipykernel)",
   "language": "python",
   "name": "python3"
  },
  "language_info": {
   "codemirror_mode": {
    "name": "ipython",
    "version": 3
   },
   "file_extension": ".py",
   "mimetype": "text/x-python",
   "name": "python",
   "nbconvert_exporter": "python",
   "pygments_lexer": "ipython3",
   "version": "3.11.6"
  }
 },
 "nbformat": 4,
 "nbformat_minor": 5
}
