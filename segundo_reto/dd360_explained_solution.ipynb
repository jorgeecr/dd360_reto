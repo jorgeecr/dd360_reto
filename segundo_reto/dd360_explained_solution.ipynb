{
 "cells": [
  {
   "cell_type": "code",
   "execution_count": 1,
   "id": "35375c30-ec41-4493-806c-56aec617cb35",
   "metadata": {},
   "outputs": [],
   "source": [
    "import matplotlib.pyplot as plt\n",
    "import numpy as np\n",
    "import pandas as pd\n",
    "import seaborn as sns\n",
    "from sklearn.cluster import KMeans\n",
    "from sklearn.metrics import mean_absolute_error, mean_squared_error\n",
    "from sklearn.model_selection import train_test_split\n",
    "from xgboost import XGBRegressor"
   ]
  },
  {
   "cell_type": "code",
   "execution_count": 2,
   "id": "b1898212-b53d-44b6-bfb6-b21b21d51187",
   "metadata": {},
   "outputs": [],
   "source": [
    "path = \"Downloads/Reto v2/liquidity_challenge.xlsx\""
   ]
  },
  {
   "cell_type": "code",
   "execution_count": 3,
   "id": "c82f45ce-9cf3-48d8-b3d1-26af6d104502",
   "metadata": {},
   "outputs": [],
   "source": [
    "df = pd.read_excel(path)"
   ]
  },
  {
   "cell_type": "markdown",
   "id": "de2efcf1-5117-48f5-9cd3-048291dbd2e8",
   "metadata": {},
   "source": [
    "En el excel proporcionado se enumeran propiedades que estuvieron o están en el mercado a una fecha de corte fija. Para cada propiedad se describen características como su superficie total, número de recáramras, numero de cajones de estacionamiento, tipo de propiedad (casa o departamento), ubicacion geográfica (a través de su longitud y latitud) y se enlistan para cada una de estas propiedades dos fechas: la de la primer visita y la de la última por potenciales clientes.\n",
    "Podemos asumir que la fecha de corte sería la fecha de la más reciente visita a una de estas propiedades o alguna fecha posterior a esta.  \n",
    "Si la propiedad ya no está en el mercado, entonces `time2event` debe ser aproximadamente igual a los días que pasaron desde la primer visita hasta la última, salvo que la primer visita no haya ocurrido en el primer día en que la propiedad estuvo en el mercado. Por otro lado, si la propiedad sigue en el mercado, entonces, con la misma suposición de que la propiedad entró al mercado el día que fue visitada por primera vez, podemos deducir que `time2event` en este caso es igual al número de días que han pasado desde su primer visita hasta la fecha de corte. Esta fecha de corte no está dada explícitcamente en ninguna parte, sin embargo podemos presumir que fue cercana a la fecha de visita a las propiedades más reciente en el listado.\n",
    "Podemos obtenerla de este modo:"
   ]
  },
  {
   "cell_type": "code",
   "execution_count": 4,
   "id": "974987c4-55b9-411c-b370-e124bb22dc5f",
   "metadata": {},
   "outputs": [
    {
     "data": {
      "text/plain": [
       "Timestamp('2023-10-16 18:24:06')"
      ]
     },
     "execution_count": 4,
     "metadata": {},
     "output_type": "execute_result"
    }
   ],
   "source": [
    "df['last_observed_date'].max()"
   ]
  },
  {
   "cell_type": "markdown",
   "id": "192a1fdb-bef0-447d-a686-241702f7d72f",
   "metadata": {},
   "source": [
    "Obtengamos el tiempo (en días) que transcurrió entre la primer visita hasta la última que hubo a la propiedad que fue vista por última vez entre todas las propiedades del listado."
   ]
  },
  {
   "cell_type": "code",
   "execution_count": 5,
   "id": "ee684771-1ec3-4456-a17f-ae4f925b40f8",
   "metadata": {},
   "outputs": [
    {
     "data": {
      "text/plain": [
       "Timedelta('56 days 01:24:45')"
      ]
     },
     "execution_count": 5,
     "metadata": {},
     "output_type": "execute_result"
    }
   ],
   "source": [
    "idx = df['last_observed_date'].idxmax()\n",
    "row = df.iloc[idx]\n",
    "row['last_observed_date'] - row['first_observed_date']"
   ]
  },
  {
   "cell_type": "markdown",
   "id": "4a2f5075-f206-432b-93a5-40d8bae77d99",
   "metadata": {},
   "source": [
    "Como el valor de `time2event` (55) para esta propiedad es menor que el de la diferencia (56), podemos suponer que la fecha de corte para recolectar toda la información fue tan sólo unas horas antes de la ultima fecha de visita, por ej podría ser el día 16 de octubre al mediodía. Sin embargo esto nos permitiría hacer una inferencia directa de la variable target que resultaría bastante aproximada y que no requeriría de ninguna regresión sino simplemente de la lógica con la que se obtiene la variable `time2event`. Como toda la información de este análisis se encuentra en el mismo documento proporcionado, no estaríamos incurriendo en alguna especie de data leakage para obtenerla. Podemos crear una función simple para encontrar dicha variable, como se ilustra a continuación: "
   ]
  },
  {
   "cell_type": "code",
   "execution_count": 6,
   "id": "f110012c-90a4-459d-99a6-917808217456",
   "metadata": {},
   "outputs": [],
   "source": [
    "end = df['last_observed_date'].max()\n",
    "start = df['first_observed_date'].min()"
   ]
  },
  {
   "cell_type": "code",
   "execution_count": 7,
   "id": "e650037e-a710-4892-a544-af15deb6ec4c",
   "metadata": {},
   "outputs": [],
   "source": [
    "def get_time2event(event, first_observed_date, last_observed_date):\n",
    "    return last_observed_date - first_observed_date if event else end - first_observed_date"
   ]
  },
  {
   "cell_type": "code",
   "execution_count": 8,
   "id": "0a5a7dc2-ce1e-4f19-bbc9-a6fc17ff6954",
   "metadata": {},
   "outputs": [],
   "source": [
    "delta_time = df.apply(lambda x: get_time2event(x['event'], x['first_observed_date'], x['last_observed_date']), \n",
    "                        axis=1)"
   ]
  },
  {
   "cell_type": "code",
   "execution_count": 9,
   "id": "3eca0b7f-683d-4645-8384-264623723903",
   "metadata": {},
   "outputs": [],
   "source": [
    "delta_days = delta_time.dt.days"
   ]
  },
  {
   "cell_type": "markdown",
   "id": "7c30f15f-c1fe-438e-969c-52a6d49760bd",
   "metadata": {},
   "source": [
    "Podemos aplicar una métrica de `mean_squared_error` pertinente para una regresión de este tipo y observamos que el resultado es bastante acertado:"
   ]
  },
  {
   "cell_type": "code",
   "execution_count": 10,
   "id": "60d148b6-9bf2-4000-9c8c-d65276d9705e",
   "metadata": {},
   "outputs": [
    {
     "data": {
      "text/plain": [
       "0.06434599156118144"
      ]
     },
     "execution_count": 10,
     "metadata": {},
     "output_type": "execute_result"
    }
   ],
   "source": [
    "mean_squared_error(delta_days, df['time2event'])"
   ]
  },
  {
   "cell_type": "markdown",
   "id": "506517fc-4df1-4e95-bfa7-ebc1f38266b8",
   "metadata": {},
   "source": [
    " "
   ]
  },
  {
   "cell_type": "markdown",
   "id": "7a30ee26-4d15-4c1b-b830-9eb33336d6b1",
   "metadata": {},
   "source": [
    "Damos a continuación una solución alternativa aplicando una regresión a los datos proporcionados."
   ]
  },
  {
   "cell_type": "markdown",
   "id": "0aff8d09-07ec-4b89-9ad3-977683bdf7de",
   "metadata": {},
   "source": [
    "Haremos un breve <i>feature engineering</i> usando las variables `last_observed_date` y `first_observed_date`. Con ellas creamos dos variables, una llamada `days_between_first_and_last_observed` será obtenida a partir de la diferencia de ambas, y la otra `days_since_last_observed` nos dirá cuántos días han pasado desde el último día en que fue visitada hasta la fecha de la última visita a una propiedad del listado."
   ]
  },
  {
   "cell_type": "code",
   "execution_count": 11,
   "id": "e77f05b3-ba4e-4c6c-ba4a-dae90a85eb1a",
   "metadata": {},
   "outputs": [],
   "source": [
    "diff_dates = df['last_observed_date'] - df['first_observed_date']"
   ]
  },
  {
   "cell_type": "code",
   "execution_count": 12,
   "id": "e7a6d425-f68e-4feb-b058-308803985bdf",
   "metadata": {},
   "outputs": [],
   "source": [
    "df['days_between_first_and_last_observed'] = diff_dates.dt.days"
   ]
  },
  {
   "cell_type": "code",
   "execution_count": 13,
   "id": "79d0e2c7-b5d1-4df4-ad4f-2b69188e8ed5",
   "metadata": {},
   "outputs": [],
   "source": [
    "df['days_since_last_observed'] = (end - df['last_observed_date']).dt.days"
   ]
  },
  {
   "cell_type": "markdown",
   "id": "f507055a-02dd-4224-884d-f9a1175ac6ce",
   "metadata": {},
   "source": [
    "Como se dan coordinadas geográficas que no tienen por sí mismas una dependencia lineal respecto a la variable `time2event`, calculamos clusters y creamos una variable categórica llamada `geo_cluster` que nos dirá en qué zona geográfica se encuentra la propiedad. Usaremos la variable libre `num_clusters` como número total de clusters. "
   ]
  },
  {
   "cell_type": "code",
   "execution_count": 14,
   "id": "885cb51b-c695-4c8d-a92a-44179431327e",
   "metadata": {},
   "outputs": [],
   "source": [
    "coordinates_data = df[['longitude', 'latitude']]"
   ]
  },
  {
   "cell_type": "code",
   "execution_count": 15,
   "id": "fc4e3ed9-f664-4c7f-b8eb-a26b5e7243e2",
   "metadata": {},
   "outputs": [
    {
     "data": {
      "image/png": "[encoded data removed]",
      "text/plain": [
       "<Figure size 640x480 with 1 Axes>"
      ]
     },
     "metadata": {},
     "output_type": "display_data"
    }
   ],
   "source": [
    "sns.scatterplot(data=df, x=\"longitude\", y=\"latitude\")\n",
    "plt.show()"
   ]
  },
  {
   "cell_type": "code",
   "execution_count": 16,
   "id": "e1374e08-c19e-458c-876b-ca81ba0105df",
   "metadata": {},
   "outputs": [
    {
     "name": "stderr",
     "output_type": "stream",
     "text": [
      "/opt/homebrew/lib/python3.11/site-packages/sklearn/cluster/_kmeans.py:1412: FutureWarning: The default value of `n_init` will change from 10 to 'auto' in 1.4. Set the value of `n_init` explicitly to suppress the warning\n",
      "  super()._check_params_vs_input(X, default_n_init=10)\n"
     ]
    }
   ],
   "source": [
    "num_clusters = 4\n",
    "\n",
    "# Applying K-means clustering\n",
    "kmeans = KMeans(n_clusters=num_clusters, random_state=42)\n",
    "kmeans.fit(coordinates_data)\n",
    "\n",
    "# Adding cluster labels to the original data\n",
    "data_with_labels = np.column_stack((coordinates_data, kmeans.labels_))"
   ]
  },
  {
   "cell_type": "code",
   "execution_count": 17,
   "id": "5d4df597-83d2-43b1-a57f-f7b3daba6190",
   "metadata": {},
   "outputs": [],
   "source": [
    "geo_cluster = data_with_labels[:, 2].astype(int)\n",
    "df['geo_cluster'] = geo_cluster"
   ]
  },
  {
   "cell_type": "markdown",
   "id": "8d7017e4-0bb8-4d46-822a-4ec72c77c0af",
   "metadata": {},
   "source": [
    "Finalmente procedemos a eliminar algunas variables que no usaremos y cambiar el formato de la variable `property_type`."
   ]
  },
  {
   "cell_type": "code",
   "execution_count": 18,
   "id": "97c8e96f-9d52-4432-ae54-98733f5881fc",
   "metadata": {},
   "outputs": [],
   "source": [
    "rm_cols = ['latitude', 'longitude', 'property_id', 'last_observed_date', 'first_observed_date', 'seller_hash', 'marketplace_hash']"
   ]
  },
  {
   "cell_type": "code",
   "execution_count": 19,
   "id": "d08092d8-7f37-4770-87d7-0fddbd7825d4",
   "metadata": {},
   "outputs": [],
   "source": [
    "cols_ = [x for x in df.columns if x not in rm_cols]"
   ]
  },
  {
   "cell_type": "code",
   "execution_count": 20,
   "id": "6a4120f7-8573-4886-b716-a49e45e28678",
   "metadata": {},
   "outputs": [],
   "source": [
    "df = df[cols_]"
   ]
  },
  {
   "cell_type": "code",
   "execution_count": 21,
   "id": "36f43648-ec4e-4bc4-94fe-16975210205d",
   "metadata": {},
   "outputs": [
    {
     "data": {
      "text/html": [
       "<div>\n",
       "<style scoped>\n",
       "    .dataframe tbody tr th:only-of-type {\n",
       "        vertical-align: middle;\n",
       "    }\n",
       "\n",
       "    .dataframe tbody tr th {\n",
       "        vertical-align: top;\n",
       "    }\n",
       "\n",
       "    .dataframe thead th {\n",
       "        text-align: right;\n",
       "    }\n",
       "</style>\n",
       "<table border=\"1\" class=\"dataframe\">\n",
       "  <thead>\n",
       "    <tr style=\"text-align: right;\">\n",
       "      <th></th>\n",
       "      <th>event</th>\n",
       "      <th>time2event</th>\n",
       "      <th>property_type</th>\n",
       "      <th>surface_total</th>\n",
       "      <th>num_bathrooms</th>\n",
       "      <th>num_bedrooms</th>\n",
       "      <th>num_parking_lots</th>\n",
       "      <th>first_price</th>\n",
       "      <th>last_price</th>\n",
       "      <th>views</th>\n",
       "      <th>...</th>\n",
       "      <th>has_luxury_features</th>\n",
       "      <th>has_pool</th>\n",
       "      <th>has_studio</th>\n",
       "      <th>has_surveillance</th>\n",
       "      <th>has_terrace</th>\n",
       "      <th>has_visitors_parking</th>\n",
       "      <th>has_washing_area</th>\n",
       "      <th>days_between_first_and_last_observed</th>\n",
       "      <th>days_since_last_observed</th>\n",
       "      <th>geo_cluster</th>\n",
       "    </tr>\n",
       "  </thead>\n",
       "  <tbody>\n",
       "    <tr>\n",
       "      <th>0</th>\n",
       "      <td>1</td>\n",
       "      <td>96</td>\n",
       "      <td>apartment</td>\n",
       "      <td>120.0</td>\n",
       "      <td>2.5</td>\n",
       "      <td>2.0</td>\n",
       "      <td>1.0</td>\n",
       "      <td>4100000.0</td>\n",
       "      <td>4100000.0</td>\n",
       "      <td>51</td>\n",
       "      <td>...</td>\n",
       "      <td>0</td>\n",
       "      <td>0</td>\n",
       "      <td>0</td>\n",
       "      <td>0</td>\n",
       "      <td>0</td>\n",
       "      <td>0</td>\n",
       "      <td>0</td>\n",
       "      <td>96</td>\n",
       "      <td>37</td>\n",
       "      <td>1</td>\n",
       "    </tr>\n",
       "    <tr>\n",
       "      <th>1</th>\n",
       "      <td>0</td>\n",
       "      <td>37</td>\n",
       "      <td>apartment</td>\n",
       "      <td>82.0</td>\n",
       "      <td>2.0</td>\n",
       "      <td>2.0</td>\n",
       "      <td>2.0</td>\n",
       "      <td>4900000.0</td>\n",
       "      <td>4900000.0</td>\n",
       "      <td>61</td>\n",
       "      <td>...</td>\n",
       "      <td>0</td>\n",
       "      <td>0</td>\n",
       "      <td>0</td>\n",
       "      <td>1</td>\n",
       "      <td>1</td>\n",
       "      <td>0</td>\n",
       "      <td>0</td>\n",
       "      <td>30</td>\n",
       "      <td>7</td>\n",
       "      <td>1</td>\n",
       "    </tr>\n",
       "    <tr>\n",
       "      <th>2</th>\n",
       "      <td>1</td>\n",
       "      <td>88</td>\n",
       "      <td>apartment</td>\n",
       "      <td>84.0</td>\n",
       "      <td>2.0</td>\n",
       "      <td>2.0</td>\n",
       "      <td>1.0</td>\n",
       "      <td>2782696.0</td>\n",
       "      <td>2782696.0</td>\n",
       "      <td>50</td>\n",
       "      <td>...</td>\n",
       "      <td>0</td>\n",
       "      <td>0</td>\n",
       "      <td>0</td>\n",
       "      <td>0</td>\n",
       "      <td>0</td>\n",
       "      <td>0</td>\n",
       "      <td>0</td>\n",
       "      <td>88</td>\n",
       "      <td>14</td>\n",
       "      <td>1</td>\n",
       "    </tr>\n",
       "    <tr>\n",
       "      <th>3</th>\n",
       "      <td>1</td>\n",
       "      <td>58</td>\n",
       "      <td>apartment</td>\n",
       "      <td>92.0</td>\n",
       "      <td>2.0</td>\n",
       "      <td>2.0</td>\n",
       "      <td>0.0</td>\n",
       "      <td>5280000.0</td>\n",
       "      <td>5280000.0</td>\n",
       "      <td>68</td>\n",
       "      <td>...</td>\n",
       "      <td>0</td>\n",
       "      <td>0</td>\n",
       "      <td>0</td>\n",
       "      <td>1</td>\n",
       "      <td>0</td>\n",
       "      <td>0</td>\n",
       "      <td>0</td>\n",
       "      <td>58</td>\n",
       "      <td>127</td>\n",
       "      <td>1</td>\n",
       "    </tr>\n",
       "    <tr>\n",
       "      <th>4</th>\n",
       "      <td>0</td>\n",
       "      <td>95</td>\n",
       "      <td>apartment</td>\n",
       "      <td>55.0</td>\n",
       "      <td>1.0</td>\n",
       "      <td>1.0</td>\n",
       "      <td>1.0</td>\n",
       "      <td>3250000.0</td>\n",
       "      <td>3250000.0</td>\n",
       "      <td>58</td>\n",
       "      <td>...</td>\n",
       "      <td>0</td>\n",
       "      <td>1</td>\n",
       "      <td>0</td>\n",
       "      <td>1</td>\n",
       "      <td>1</td>\n",
       "      <td>0</td>\n",
       "      <td>0</td>\n",
       "      <td>88</td>\n",
       "      <td>7</td>\n",
       "      <td>3</td>\n",
       "    </tr>\n",
       "    <tr>\n",
       "      <th>...</th>\n",
       "      <td>...</td>\n",
       "      <td>...</td>\n",
       "      <td>...</td>\n",
       "      <td>...</td>\n",
       "      <td>...</td>\n",
       "      <td>...</td>\n",
       "      <td>...</td>\n",
       "      <td>...</td>\n",
       "      <td>...</td>\n",
       "      <td>...</td>\n",
       "      <td>...</td>\n",
       "      <td>...</td>\n",
       "      <td>...</td>\n",
       "      <td>...</td>\n",
       "      <td>...</td>\n",
       "      <td>...</td>\n",
       "      <td>...</td>\n",
       "      <td>...</td>\n",
       "      <td>...</td>\n",
       "      <td>...</td>\n",
       "      <td>...</td>\n",
       "    </tr>\n",
       "    <tr>\n",
       "      <th>4735</th>\n",
       "      <td>1</td>\n",
       "      <td>63</td>\n",
       "      <td>apartment</td>\n",
       "      <td>60.0</td>\n",
       "      <td>1.0</td>\n",
       "      <td>1.0</td>\n",
       "      <td>1.6</td>\n",
       "      <td>2900000.0</td>\n",
       "      <td>2900000.0</td>\n",
       "      <td>57</td>\n",
       "      <td>...</td>\n",
       "      <td>0</td>\n",
       "      <td>0</td>\n",
       "      <td>0</td>\n",
       "      <td>0</td>\n",
       "      <td>0</td>\n",
       "      <td>0</td>\n",
       "      <td>0</td>\n",
       "      <td>63</td>\n",
       "      <td>55</td>\n",
       "      <td>3</td>\n",
       "    </tr>\n",
       "    <tr>\n",
       "      <th>4736</th>\n",
       "      <td>0</td>\n",
       "      <td>47</td>\n",
       "      <td>house</td>\n",
       "      <td>208.0</td>\n",
       "      <td>2.0</td>\n",
       "      <td>3.0</td>\n",
       "      <td>2.0</td>\n",
       "      <td>5300000.0</td>\n",
       "      <td>5300000.0</td>\n",
       "      <td>56</td>\n",
       "      <td>...</td>\n",
       "      <td>0</td>\n",
       "      <td>0</td>\n",
       "      <td>0</td>\n",
       "      <td>1</td>\n",
       "      <td>0</td>\n",
       "      <td>0</td>\n",
       "      <td>1</td>\n",
       "      <td>40</td>\n",
       "      <td>6</td>\n",
       "      <td>2</td>\n",
       "    </tr>\n",
       "    <tr>\n",
       "      <th>4737</th>\n",
       "      <td>1</td>\n",
       "      <td>15</td>\n",
       "      <td>apartment</td>\n",
       "      <td>60.0</td>\n",
       "      <td>1.0</td>\n",
       "      <td>3.0</td>\n",
       "      <td>1.6</td>\n",
       "      <td>1750000.0</td>\n",
       "      <td>1750000.0</td>\n",
       "      <td>62</td>\n",
       "      <td>...</td>\n",
       "      <td>0</td>\n",
       "      <td>0</td>\n",
       "      <td>0</td>\n",
       "      <td>0</td>\n",
       "      <td>0</td>\n",
       "      <td>0</td>\n",
       "      <td>0</td>\n",
       "      <td>15</td>\n",
       "      <td>118</td>\n",
       "      <td>3</td>\n",
       "    </tr>\n",
       "    <tr>\n",
       "      <th>4738</th>\n",
       "      <td>1</td>\n",
       "      <td>49</td>\n",
       "      <td>house</td>\n",
       "      <td>302.0</td>\n",
       "      <td>3.0</td>\n",
       "      <td>4.0</td>\n",
       "      <td>2.0</td>\n",
       "      <td>13900000.0</td>\n",
       "      <td>13900000.0</td>\n",
       "      <td>51</td>\n",
       "      <td>...</td>\n",
       "      <td>0</td>\n",
       "      <td>0</td>\n",
       "      <td>0</td>\n",
       "      <td>0</td>\n",
       "      <td>0</td>\n",
       "      <td>0</td>\n",
       "      <td>1</td>\n",
       "      <td>49</td>\n",
       "      <td>55</td>\n",
       "      <td>0</td>\n",
       "    </tr>\n",
       "    <tr>\n",
       "      <th>4739</th>\n",
       "      <td>1</td>\n",
       "      <td>85</td>\n",
       "      <td>house</td>\n",
       "      <td>350.0</td>\n",
       "      <td>4.5</td>\n",
       "      <td>6.0</td>\n",
       "      <td>1.0</td>\n",
       "      <td>3500000.0</td>\n",
       "      <td>3500000.0</td>\n",
       "      <td>51</td>\n",
       "      <td>...</td>\n",
       "      <td>0</td>\n",
       "      <td>0</td>\n",
       "      <td>0</td>\n",
       "      <td>0</td>\n",
       "      <td>0</td>\n",
       "      <td>0</td>\n",
       "      <td>0</td>\n",
       "      <td>85</td>\n",
       "      <td>139</td>\n",
       "      <td>3</td>\n",
       "    </tr>\n",
       "  </tbody>\n",
       "</table>\n",
       "<p>4740 rows × 25 columns</p>\n",
       "</div>"
      ],
      "text/plain": [
       "      event  time2event property_type  surface_total  num_bathrooms  \\\n",
       "0         1          96     apartment          120.0            2.5   \n",
       "1         0          37     apartment           82.0            2.0   \n",
       "2         1          88     apartment           84.0            2.0   \n",
       "3         1          58     apartment           92.0            2.0   \n",
       "4         0          95     apartment           55.0            1.0   \n",
       "...     ...         ...           ...            ...            ...   \n",
       "4735      1          63     apartment           60.0            1.0   \n",
       "4736      0          47         house          208.0            2.0   \n",
       "4737      1          15     apartment           60.0            1.0   \n",
       "4738      1          49         house          302.0            3.0   \n",
       "4739      1          85         house          350.0            4.5   \n",
       "\n",
       "      num_bedrooms  num_parking_lots  first_price  last_price  views  ...  \\\n",
       "0              2.0               1.0    4100000.0   4100000.0     51  ...   \n",
       "1              2.0               2.0    4900000.0   4900000.0     61  ...   \n",
       "2              2.0               1.0    2782696.0   2782696.0     50  ...   \n",
       "3              2.0               0.0    5280000.0   5280000.0     68  ...   \n",
       "4              1.0               1.0    3250000.0   3250000.0     58  ...   \n",
       "...            ...               ...          ...         ...    ...  ...   \n",
       "4735           1.0               1.6    2900000.0   2900000.0     57  ...   \n",
       "4736           3.0               2.0    5300000.0   5300000.0     56  ...   \n",
       "4737           3.0               1.6    1750000.0   1750000.0     62  ...   \n",
       "4738           4.0               2.0   13900000.0  13900000.0     51  ...   \n",
       "4739           6.0               1.0    3500000.0   3500000.0     51  ...   \n",
       "\n",
       "      has_luxury_features  has_pool  has_studio  has_surveillance  \\\n",
       "0                       0         0           0                 0   \n",
       "1                       0         0           0                 1   \n",
       "2                       0         0           0                 0   \n",
       "3                       0         0           0                 1   \n",
       "4                       0         1           0                 1   \n",
       "...                   ...       ...         ...               ...   \n",
       "4735                    0         0           0                 0   \n",
       "4736                    0         0           0                 1   \n",
       "4737                    0         0           0                 0   \n",
       "4738                    0         0           0                 0   \n",
       "4739                    0         0           0                 0   \n",
       "\n",
       "      has_terrace  has_visitors_parking  has_washing_area  \\\n",
       "0               0                     0                 0   \n",
       "1               1                     0                 0   \n",
       "2               0                     0                 0   \n",
       "3               0                     0                 0   \n",
       "4               1                     0                 0   \n",
       "...           ...                   ...               ...   \n",
       "4735            0                     0                 0   \n",
       "4736            0                     0                 1   \n",
       "4737            0                     0                 0   \n",
       "4738            0                     0                 1   \n",
       "4739            0                     0                 0   \n",
       "\n",
       "      days_between_first_and_last_observed  days_since_last_observed  \\\n",
       "0                                       96                        37   \n",
       "1                                       30                         7   \n",
       "2                                       88                        14   \n",
       "3                                       58                       127   \n",
       "4                                       88                         7   \n",
       "...                                    ...                       ...   \n",
       "4735                                    63                        55   \n",
       "4736                                    40                         6   \n",
       "4737                                    15                       118   \n",
       "4738                                    49                        55   \n",
       "4739                                    85                       139   \n",
       "\n",
       "      geo_cluster  \n",
       "0               1  \n",
       "1               1  \n",
       "2               1  \n",
       "3               1  \n",
       "4               3  \n",
       "...           ...  \n",
       "4735            3  \n",
       "4736            2  \n",
       "4737            3  \n",
       "4738            0  \n",
       "4739            3  \n",
       "\n",
       "[4740 rows x 25 columns]"
      ]
     },
     "execution_count": 21,
     "metadata": {},
     "output_type": "execute_result"
    }
   ],
   "source": [
    "df"
   ]
  },
  {
   "cell_type": "code",
   "execution_count": 22,
   "id": "031bf977-764c-4e93-b621-c29f22f5b5cd",
   "metadata": {},
   "outputs": [],
   "source": [
    "df['property_type'].replace(['apartment', 'house'],\n",
    "                        [0, 1], inplace=True)"
   ]
  },
  {
   "cell_type": "code",
   "execution_count": 23,
   "id": "ed795d0f-d55f-4d72-bc2a-fbb7244759d8",
   "metadata": {},
   "outputs": [],
   "source": [
    "df['property_type'] = df.property_type.astype(int)"
   ]
  },
  {
   "cell_type": "code",
   "execution_count": 24,
   "id": "a70b0429-06b9-4bfa-8a37-793b673d0ab1",
   "metadata": {},
   "outputs": [],
   "source": [
    "df = df[['event', 'property_type', 'surface_total', 'num_bathrooms',\n",
    "       'num_bedrooms', 'num_parking_lots', 'first_price', 'last_price',\n",
    "       'views', 'num_marketplaces_property_at', 'has_balcony', 'has_elevator',\n",
    "       'has_garden', 'has_gym', 'has_luxury_features', 'has_pool',\n",
    "       'has_studio', 'has_surveillance', 'has_terrace', 'has_visitors_parking',\n",
    "       'has_washing_area', 'geo_cluster', 'days_since_last_observed',\n",
    "       'days_between_first_and_last_observed', 'time2event']]"
   ]
  },
  {
   "cell_type": "markdown",
   "id": "d5213b15-ea27-43c9-9334-469dee38765b",
   "metadata": {},
   "source": [
    "El dataframe que usaremos para la regresión es el siguiente:"
   ]
  },
  {
   "cell_type": "code",
   "execution_count": 25,
   "id": "000d8ae6-c3d6-4418-9338-5937c2b90469",
   "metadata": {},
   "outputs": [
    {
     "data": {
      "text/html": [
       "<div>\n",
       "<style scoped>\n",
       "    .dataframe tbody tr th:only-of-type {\n",
       "        vertical-align: middle;\n",
       "    }\n",
       "\n",
       "    .dataframe tbody tr th {\n",
       "        vertical-align: top;\n",
       "    }\n",
       "\n",
       "    .dataframe thead th {\n",
       "        text-align: right;\n",
       "    }\n",
       "</style>\n",
       "<table border=\"1\" class=\"dataframe\">\n",
       "  <thead>\n",
       "    <tr style=\"text-align: right;\">\n",
       "      <th></th>\n",
       "      <th>event</th>\n",
       "      <th>property_type</th>\n",
       "      <th>surface_total</th>\n",
       "      <th>num_bathrooms</th>\n",
       "      <th>num_bedrooms</th>\n",
       "      <th>num_parking_lots</th>\n",
       "      <th>first_price</th>\n",
       "      <th>last_price</th>\n",
       "      <th>views</th>\n",
       "      <th>num_marketplaces_property_at</th>\n",
       "      <th>...</th>\n",
       "      <th>has_pool</th>\n",
       "      <th>has_studio</th>\n",
       "      <th>has_surveillance</th>\n",
       "      <th>has_terrace</th>\n",
       "      <th>has_visitors_parking</th>\n",
       "      <th>has_washing_area</th>\n",
       "      <th>geo_cluster</th>\n",
       "      <th>days_since_last_observed</th>\n",
       "      <th>days_between_first_and_last_observed</th>\n",
       "      <th>time2event</th>\n",
       "    </tr>\n",
       "  </thead>\n",
       "  <tbody>\n",
       "    <tr>\n",
       "      <th>0</th>\n",
       "      <td>1</td>\n",
       "      <td>0</td>\n",
       "      <td>120.0</td>\n",
       "      <td>2.5</td>\n",
       "      <td>2.0</td>\n",
       "      <td>1.0</td>\n",
       "      <td>4100000.0</td>\n",
       "      <td>4100000.0</td>\n",
       "      <td>51</td>\n",
       "      <td>1</td>\n",
       "      <td>...</td>\n",
       "      <td>0</td>\n",
       "      <td>0</td>\n",
       "      <td>0</td>\n",
       "      <td>0</td>\n",
       "      <td>0</td>\n",
       "      <td>0</td>\n",
       "      <td>1</td>\n",
       "      <td>37</td>\n",
       "      <td>96</td>\n",
       "      <td>96</td>\n",
       "    </tr>\n",
       "    <tr>\n",
       "      <th>1</th>\n",
       "      <td>0</td>\n",
       "      <td>0</td>\n",
       "      <td>82.0</td>\n",
       "      <td>2.0</td>\n",
       "      <td>2.0</td>\n",
       "      <td>2.0</td>\n",
       "      <td>4900000.0</td>\n",
       "      <td>4900000.0</td>\n",
       "      <td>61</td>\n",
       "      <td>1</td>\n",
       "      <td>...</td>\n",
       "      <td>0</td>\n",
       "      <td>0</td>\n",
       "      <td>1</td>\n",
       "      <td>1</td>\n",
       "      <td>0</td>\n",
       "      <td>0</td>\n",
       "      <td>1</td>\n",
       "      <td>7</td>\n",
       "      <td>30</td>\n",
       "      <td>37</td>\n",
       "    </tr>\n",
       "    <tr>\n",
       "      <th>2</th>\n",
       "      <td>1</td>\n",
       "      <td>0</td>\n",
       "      <td>84.0</td>\n",
       "      <td>2.0</td>\n",
       "      <td>2.0</td>\n",
       "      <td>1.0</td>\n",
       "      <td>2782696.0</td>\n",
       "      <td>2782696.0</td>\n",
       "      <td>50</td>\n",
       "      <td>3</td>\n",
       "      <td>...</td>\n",
       "      <td>0</td>\n",
       "      <td>0</td>\n",
       "      <td>0</td>\n",
       "      <td>0</td>\n",
       "      <td>0</td>\n",
       "      <td>0</td>\n",
       "      <td>1</td>\n",
       "      <td>14</td>\n",
       "      <td>88</td>\n",
       "      <td>88</td>\n",
       "    </tr>\n",
       "    <tr>\n",
       "      <th>3</th>\n",
       "      <td>1</td>\n",
       "      <td>0</td>\n",
       "      <td>92.0</td>\n",
       "      <td>2.0</td>\n",
       "      <td>2.0</td>\n",
       "      <td>0.0</td>\n",
       "      <td>5280000.0</td>\n",
       "      <td>5280000.0</td>\n",
       "      <td>68</td>\n",
       "      <td>2</td>\n",
       "      <td>...</td>\n",
       "      <td>0</td>\n",
       "      <td>0</td>\n",
       "      <td>1</td>\n",
       "      <td>0</td>\n",
       "      <td>0</td>\n",
       "      <td>0</td>\n",
       "      <td>1</td>\n",
       "      <td>127</td>\n",
       "      <td>58</td>\n",
       "      <td>58</td>\n",
       "    </tr>\n",
       "    <tr>\n",
       "      <th>4</th>\n",
       "      <td>0</td>\n",
       "      <td>0</td>\n",
       "      <td>55.0</td>\n",
       "      <td>1.0</td>\n",
       "      <td>1.0</td>\n",
       "      <td>1.0</td>\n",
       "      <td>3250000.0</td>\n",
       "      <td>3250000.0</td>\n",
       "      <td>58</td>\n",
       "      <td>6</td>\n",
       "      <td>...</td>\n",
       "      <td>1</td>\n",
       "      <td>0</td>\n",
       "      <td>1</td>\n",
       "      <td>1</td>\n",
       "      <td>0</td>\n",
       "      <td>0</td>\n",
       "      <td>3</td>\n",
       "      <td>7</td>\n",
       "      <td>88</td>\n",
       "      <td>95</td>\n",
       "    </tr>\n",
       "    <tr>\n",
       "      <th>...</th>\n",
       "      <td>...</td>\n",
       "      <td>...</td>\n",
       "      <td>...</td>\n",
       "      <td>...</td>\n",
       "      <td>...</td>\n",
       "      <td>...</td>\n",
       "      <td>...</td>\n",
       "      <td>...</td>\n",
       "      <td>...</td>\n",
       "      <td>...</td>\n",
       "      <td>...</td>\n",
       "      <td>...</td>\n",
       "      <td>...</td>\n",
       "      <td>...</td>\n",
       "      <td>...</td>\n",
       "      <td>...</td>\n",
       "      <td>...</td>\n",
       "      <td>...</td>\n",
       "      <td>...</td>\n",
       "      <td>...</td>\n",
       "      <td>...</td>\n",
       "    </tr>\n",
       "    <tr>\n",
       "      <th>4735</th>\n",
       "      <td>1</td>\n",
       "      <td>0</td>\n",
       "      <td>60.0</td>\n",
       "      <td>1.0</td>\n",
       "      <td>1.0</td>\n",
       "      <td>1.6</td>\n",
       "      <td>2900000.0</td>\n",
       "      <td>2900000.0</td>\n",
       "      <td>57</td>\n",
       "      <td>2</td>\n",
       "      <td>...</td>\n",
       "      <td>0</td>\n",
       "      <td>0</td>\n",
       "      <td>0</td>\n",
       "      <td>0</td>\n",
       "      <td>0</td>\n",
       "      <td>0</td>\n",
       "      <td>3</td>\n",
       "      <td>55</td>\n",
       "      <td>63</td>\n",
       "      <td>63</td>\n",
       "    </tr>\n",
       "    <tr>\n",
       "      <th>4736</th>\n",
       "      <td>0</td>\n",
       "      <td>1</td>\n",
       "      <td>208.0</td>\n",
       "      <td>2.0</td>\n",
       "      <td>3.0</td>\n",
       "      <td>2.0</td>\n",
       "      <td>5300000.0</td>\n",
       "      <td>5300000.0</td>\n",
       "      <td>56</td>\n",
       "      <td>2</td>\n",
       "      <td>...</td>\n",
       "      <td>0</td>\n",
       "      <td>0</td>\n",
       "      <td>1</td>\n",
       "      <td>0</td>\n",
       "      <td>0</td>\n",
       "      <td>1</td>\n",
       "      <td>2</td>\n",
       "      <td>6</td>\n",
       "      <td>40</td>\n",
       "      <td>47</td>\n",
       "    </tr>\n",
       "    <tr>\n",
       "      <th>4737</th>\n",
       "      <td>1</td>\n",
       "      <td>0</td>\n",
       "      <td>60.0</td>\n",
       "      <td>1.0</td>\n",
       "      <td>3.0</td>\n",
       "      <td>1.6</td>\n",
       "      <td>1750000.0</td>\n",
       "      <td>1750000.0</td>\n",
       "      <td>62</td>\n",
       "      <td>4</td>\n",
       "      <td>...</td>\n",
       "      <td>0</td>\n",
       "      <td>0</td>\n",
       "      <td>0</td>\n",
       "      <td>0</td>\n",
       "      <td>0</td>\n",
       "      <td>0</td>\n",
       "      <td>3</td>\n",
       "      <td>118</td>\n",
       "      <td>15</td>\n",
       "      <td>15</td>\n",
       "    </tr>\n",
       "    <tr>\n",
       "      <th>4738</th>\n",
       "      <td>1</td>\n",
       "      <td>1</td>\n",
       "      <td>302.0</td>\n",
       "      <td>3.0</td>\n",
       "      <td>4.0</td>\n",
       "      <td>2.0</td>\n",
       "      <td>13900000.0</td>\n",
       "      <td>13900000.0</td>\n",
       "      <td>51</td>\n",
       "      <td>1</td>\n",
       "      <td>...</td>\n",
       "      <td>0</td>\n",
       "      <td>0</td>\n",
       "      <td>0</td>\n",
       "      <td>0</td>\n",
       "      <td>0</td>\n",
       "      <td>1</td>\n",
       "      <td>0</td>\n",
       "      <td>55</td>\n",
       "      <td>49</td>\n",
       "      <td>49</td>\n",
       "    </tr>\n",
       "    <tr>\n",
       "      <th>4739</th>\n",
       "      <td>1</td>\n",
       "      <td>1</td>\n",
       "      <td>350.0</td>\n",
       "      <td>4.5</td>\n",
       "      <td>6.0</td>\n",
       "      <td>1.0</td>\n",
       "      <td>3500000.0</td>\n",
       "      <td>3500000.0</td>\n",
       "      <td>51</td>\n",
       "      <td>3</td>\n",
       "      <td>...</td>\n",
       "      <td>0</td>\n",
       "      <td>0</td>\n",
       "      <td>0</td>\n",
       "      <td>0</td>\n",
       "      <td>0</td>\n",
       "      <td>0</td>\n",
       "      <td>3</td>\n",
       "      <td>139</td>\n",
       "      <td>85</td>\n",
       "      <td>85</td>\n",
       "    </tr>\n",
       "  </tbody>\n",
       "</table>\n",
       "<p>4740 rows × 25 columns</p>\n",
       "</div>"
      ],
      "text/plain": [
       "      event  property_type  surface_total  num_bathrooms  num_bedrooms  \\\n",
       "0         1              0          120.0            2.5           2.0   \n",
       "1         0              0           82.0            2.0           2.0   \n",
       "2         1              0           84.0            2.0           2.0   \n",
       "3         1              0           92.0            2.0           2.0   \n",
       "4         0              0           55.0            1.0           1.0   \n",
       "...     ...            ...            ...            ...           ...   \n",
       "4735      1              0           60.0            1.0           1.0   \n",
       "4736      0              1          208.0            2.0           3.0   \n",
       "4737      1              0           60.0            1.0           3.0   \n",
       "4738      1              1          302.0            3.0           4.0   \n",
       "4739      1              1          350.0            4.5           6.0   \n",
       "\n",
       "      num_parking_lots  first_price  last_price  views  \\\n",
       "0                  1.0    4100000.0   4100000.0     51   \n",
       "1                  2.0    4900000.0   4900000.0     61   \n",
       "2                  1.0    2782696.0   2782696.0     50   \n",
       "3                  0.0    5280000.0   5280000.0     68   \n",
       "4                  1.0    3250000.0   3250000.0     58   \n",
       "...                ...          ...         ...    ...   \n",
       "4735               1.6    2900000.0   2900000.0     57   \n",
       "4736               2.0    5300000.0   5300000.0     56   \n",
       "4737               1.6    1750000.0   1750000.0     62   \n",
       "4738               2.0   13900000.0  13900000.0     51   \n",
       "4739               1.0    3500000.0   3500000.0     51   \n",
       "\n",
       "      num_marketplaces_property_at  ...  has_pool  has_studio  \\\n",
       "0                                1  ...         0           0   \n",
       "1                                1  ...         0           0   \n",
       "2                                3  ...         0           0   \n",
       "3                                2  ...         0           0   \n",
       "4                                6  ...         1           0   \n",
       "...                            ...  ...       ...         ...   \n",
       "4735                             2  ...         0           0   \n",
       "4736                             2  ...         0           0   \n",
       "4737                             4  ...         0           0   \n",
       "4738                             1  ...         0           0   \n",
       "4739                             3  ...         0           0   \n",
       "\n",
       "      has_surveillance  has_terrace  has_visitors_parking  has_washing_area  \\\n",
       "0                    0            0                     0                 0   \n",
       "1                    1            1                     0                 0   \n",
       "2                    0            0                     0                 0   \n",
       "3                    1            0                     0                 0   \n",
       "4                    1            1                     0                 0   \n",
       "...                ...          ...                   ...               ...   \n",
       "4735                 0            0                     0                 0   \n",
       "4736                 1            0                     0                 1   \n",
       "4737                 0            0                     0                 0   \n",
       "4738                 0            0                     0                 1   \n",
       "4739                 0            0                     0                 0   \n",
       "\n",
       "      geo_cluster  days_since_last_observed  \\\n",
       "0               1                        37   \n",
       "1               1                         7   \n",
       "2               1                        14   \n",
       "3               1                       127   \n",
       "4               3                         7   \n",
       "...           ...                       ...   \n",
       "4735            3                        55   \n",
       "4736            2                         6   \n",
       "4737            3                       118   \n",
       "4738            0                        55   \n",
       "4739            3                       139   \n",
       "\n",
       "      days_between_first_and_last_observed  time2event  \n",
       "0                                       96          96  \n",
       "1                                       30          37  \n",
       "2                                       88          88  \n",
       "3                                       58          58  \n",
       "4                                       88          95  \n",
       "...                                    ...         ...  \n",
       "4735                                    63          63  \n",
       "4736                                    40          47  \n",
       "4737                                    15          15  \n",
       "4738                                    49          49  \n",
       "4739                                    85          85  \n",
       "\n",
       "[4740 rows x 25 columns]"
      ]
     },
     "execution_count": 25,
     "metadata": {},
     "output_type": "execute_result"
    }
   ],
   "source": [
    "df"
   ]
  },
  {
   "cell_type": "code",
   "execution_count": 26,
   "id": "4970f10f-3e44-4f6c-bcbf-f51402108c87",
   "metadata": {},
   "outputs": [],
   "source": [
    "X = df[df.columns[:-1]]\n",
    "y = df[df.columns[-1]]\n",
    "X_train, X_test, y_train, y_test = train_test_split(X, y, test_size=.2)"
   ]
  },
  {
   "cell_type": "markdown",
   "id": "4cab36be-15f2-49cd-916b-c5df6bef7df9",
   "metadata": {},
   "source": [
    "Usaremos un algoritmo que nos permita usar variables categóricas y continuas. Una opción bastante probada es XGBoost, que usa gradient boosting para encontrar el objetivo."
   ]
  },
  {
   "cell_type": "code",
   "execution_count": 27,
   "id": "876b1630-eca7-4a33-ba79-fbb8fb76bfe9",
   "metadata": {},
   "outputs": [
    {
     "data": {
      "text/html": [
       "<style>#sk-container-id-1 {color: black;}#sk-container-id-1 pre{padding: 0;}#sk-container-id-1 div.sk-toggleable {background-color: white;}#sk-container-id-1 label.sk-toggleable__label {cursor: pointer;display: block;width: 100%;margin-bottom: 0;padding: 0.3em;box-sizing: border-box;text-align: center;}#sk-container-id-1 label.sk-toggleable__label-arrow:before {content: \"▸\";float: left;margin-right: 0.25em;color: #696969;}#sk-container-id-1 label.sk-toggleable__label-arrow:hover:before {color: black;}#sk-container-id-1 div.sk-estimator:hover label.sk-toggleable__label-arrow:before {color: black;}#sk-container-id-1 div.sk-toggleable__content {max-height: 0;max-width: 0;overflow: hidden;text-align: left;background-color: #f0f8ff;}#sk-container-id-1 div.sk-toggleable__content pre {margin: 0.2em;color: black;border-radius: 0.25em;background-color: #f0f8ff;}#sk-container-id-1 input.sk-toggleable__control:checked~div.sk-toggleable__content {max-height: 200px;max-width: 100%;overflow: auto;}#sk-container-id-1 input.sk-toggleable__control:checked~label.sk-toggleable__label-arrow:before {content: \"▾\";}#sk-container-id-1 div.sk-estimator input.sk-toggleable__control:checked~label.sk-toggleable__label {background-color: #d4ebff;}#sk-container-id-1 div.sk-label input.sk-toggleable__control:checked~label.sk-toggleable__label {background-color: #d4ebff;}#sk-container-id-1 input.sk-hidden--visually {border: 0;clip: rect(1px 1px 1px 1px);clip: rect(1px, 1px, 1px, 1px);height: 1px;margin: -1px;overflow: hidden;padding: 0;position: absolute;width: 1px;}#sk-container-id-1 div.sk-estimator {font-family: monospace;background-color: #f0f8ff;border: 1px dotted black;border-radius: 0.25em;box-sizing: border-box;margin-bottom: 0.5em;}#sk-container-id-1 div.sk-estimator:hover {background-color: #d4ebff;}#sk-container-id-1 div.sk-parallel-item::after {content: \"\";width: 100%;border-bottom: 1px solid gray;flex-grow: 1;}#sk-container-id-1 div.sk-label:hover label.sk-toggleable__label {background-color: #d4ebff;}#sk-container-id-1 div.sk-serial::before {content: \"\";position: absolute;border-left: 1px solid gray;box-sizing: border-box;top: 0;bottom: 0;left: 50%;z-index: 0;}#sk-container-id-1 div.sk-serial {display: flex;flex-direction: column;align-items: center;background-color: white;padding-right: 0.2em;padding-left: 0.2em;position: relative;}#sk-container-id-1 div.sk-item {position: relative;z-index: 1;}#sk-container-id-1 div.sk-parallel {display: flex;align-items: stretch;justify-content: center;background-color: white;position: relative;}#sk-container-id-1 div.sk-item::before, #sk-container-id-1 div.sk-parallel-item::before {content: \"\";position: absolute;border-left: 1px solid gray;box-sizing: border-box;top: 0;bottom: 0;left: 50%;z-index: -1;}#sk-container-id-1 div.sk-parallel-item {display: flex;flex-direction: column;z-index: 1;position: relative;background-color: white;}#sk-container-id-1 div.sk-parallel-item:first-child::after {align-self: flex-end;width: 50%;}#sk-container-id-1 div.sk-parallel-item:last-child::after {align-self: flex-start;width: 50%;}#sk-container-id-1 div.sk-parallel-item:only-child::after {width: 0;}#sk-container-id-1 div.sk-dashed-wrapped {border: 1px dashed gray;margin: 0 0.4em 0.5em 0.4em;box-sizing: border-box;padding-bottom: 0.4em;background-color: white;}#sk-container-id-1 div.sk-label label {font-family: monospace;font-weight: bold;display: inline-block;line-height: 1.2em;}#sk-container-id-1 div.sk-label-container {text-align: center;}#sk-container-id-1 div.sk-container {/* jupyter's `normalize.less` sets `[hidden] { display: none; }` but bootstrap.min.css set `[hidden] { display: none !important; }` so we also need the `!important` here to be able to override the default hidden behavior on the sphinx rendered scikit-learn.org. See: https://github.com/scikit-learn/scikit-learn/issues/21755 */display: inline-block !important;position: relative;}#sk-container-id-1 div.sk-text-repr-fallback {display: none;}</style><div id=\"sk-container-id-1\" class=\"sk-top-container\"><div class=\"sk-text-repr-fallback\"><pre>XGBRegressor(base_score=None, booster=None, callbacks=None,\n",
       "             colsample_bylevel=None, colsample_bynode=None,\n",
       "             colsample_bytree=None, early_stopping_rounds=None,\n",
       "             enable_categorical=False, eval_metric=None, feature_types=None,\n",
       "             gamma=None, gpu_id=None, grow_policy=None, importance_type=None,\n",
       "             interaction_constraints=None, learning_rate=None, max_bin=None,\n",
       "             max_cat_threshold=None, max_cat_to_onehot=None,\n",
       "             max_delta_step=None, max_depth=None, max_leaves=None,\n",
       "             min_child_weight=None, missing=nan, monotone_constraints=None,\n",
       "             n_estimators=100, n_jobs=None, num_parallel_tree=None,\n",
       "             predictor=None, random_state=None, ...)</pre><b>In a Jupyter environment, please rerun this cell to show the HTML representation or trust the notebook. <br />On GitHub, the HTML representation is unable to render, please try loading this page with nbviewer.org.</b></div><div class=\"sk-container\" hidden><div class=\"sk-item\"><div class=\"sk-estimator sk-toggleable\"><input class=\"sk-toggleable__control sk-hidden--visually\" id=\"sk-estimator-id-1\" type=\"checkbox\" checked><label for=\"sk-estimator-id-1\" class=\"sk-toggleable__label sk-toggleable__label-arrow\">XGBRegressor</label><div class=\"sk-toggleable__content\"><pre>XGBRegressor(base_score=None, booster=None, callbacks=None,\n",
       "             colsample_bylevel=None, colsample_bynode=None,\n",
       "             colsample_bytree=None, early_stopping_rounds=None,\n",
       "             enable_categorical=False, eval_metric=None, feature_types=None,\n",
       "             gamma=None, gpu_id=None, grow_policy=None, importance_type=None,\n",
       "             interaction_constraints=None, learning_rate=None, max_bin=None,\n",
       "             max_cat_threshold=None, max_cat_to_onehot=None,\n",
       "             max_delta_step=None, max_depth=None, max_leaves=None,\n",
       "             min_child_weight=None, missing=nan, monotone_constraints=None,\n",
       "             n_estimators=100, n_jobs=None, num_parallel_tree=None,\n",
       "             predictor=None, random_state=None, ...)</pre></div></div></div></div></div>"
      ],
      "text/plain": [
       "XGBRegressor(base_score=None, booster=None, callbacks=None,\n",
       "             colsample_bylevel=None, colsample_bynode=None,\n",
       "             colsample_bytree=None, early_stopping_rounds=None,\n",
       "             enable_categorical=False, eval_metric=None, feature_types=None,\n",
       "             gamma=None, gpu_id=None, grow_policy=None, importance_type=None,\n",
       "             interaction_constraints=None, learning_rate=None, max_bin=None,\n",
       "             max_cat_threshold=None, max_cat_to_onehot=None,\n",
       "             max_delta_step=None, max_depth=None, max_leaves=None,\n",
       "             min_child_weight=None, missing=nan, monotone_constraints=None,\n",
       "             n_estimators=100, n_jobs=None, num_parallel_tree=None,\n",
       "             predictor=None, random_state=None, ...)"
      ]
     },
     "execution_count": 27,
     "metadata": {},
     "output_type": "execute_result"
    }
   ],
   "source": [
    "model = XGBRegressor()\n",
    "\n",
    "model.fit(X_train, y_train)"
   ]
  },
  {
   "cell_type": "code",
   "execution_count": 28,
   "id": "3901e745-66c8-4dff-b88d-ecafaf64218d",
   "metadata": {},
   "outputs": [],
   "source": [
    "y_pred = model.predict(X_test)\n"
   ]
  },
  {
   "cell_type": "markdown",
   "id": "2030f7c0-4008-409a-81db-017360765c84",
   "metadata": {},
   "source": [
    "Calculamos nuestra métrica `mean_squared_error` para las predicciones obtenidas a partir del modelo"
   ]
  },
  {
   "cell_type": "code",
   "execution_count": 29,
   "id": "1ae805ea-65c3-489c-8ffd-f2312f37dba1",
   "metadata": {},
   "outputs": [
    {
     "data": {
      "text/plain": [
       "0.17946155393622912"
      ]
     },
     "execution_count": 29,
     "metadata": {},
     "output_type": "execute_result"
    }
   ],
   "source": [
    "mean_squared_error(y_pred, y_test)"
   ]
  },
  {
   "cell_type": "markdown",
   "id": "ae1c60ce-6f26-4888-945a-7f905c03735e",
   "metadata": {},
   "source": [
    "y obtenemos una gráfica con la importancia de cada feature. Podemos ver que el feature que creamos `days_between_first_and_last_observed` tiene una importancia determinante en nuestra regresión."
   ]
  },
  {
   "cell_type": "code",
   "execution_count": 30,
   "id": "b61b89c1-657f-4aad-97d4-7940ac89551a",
   "metadata": {},
   "outputs": [
    {
     "data": {
      "image/png": "[encoded data removed]",
      "text/plain": [
       "<Figure size 640x480 with 1 Axes>"
      ]
     },
     "metadata": {},
     "output_type": "display_data"
    }
   ],
   "source": [
    "plt.bar(model.feature_names_in_, model.feature_importances_)\n",
    "plt.xticks(rotation=90)\n",
    "plt.show()"
   ]
  },
  {
   "cell_type": "markdown",
   "id": "9a210e6b-6b84-4d47-9a34-ac9509695209",
   "metadata": {},
   "source": [
    "#### ¿Cómo se ve tu análisis para las propiedades que aún no se venden contra las que ya se vendieron?\n",
    "Podemos calcular las predicciones para casas vendidas y no vendidas separadamente para poder obtener la métrica en cada caso y poder analizar el resultado."
   ]
  },
  {
   "cell_type": "code",
   "execution_count": 31,
   "id": "fdb1124b-0a99-41e8-ade9-6c887dfd2c53",
   "metadata": {},
   "outputs": [],
   "source": [
    "X_test_vend = X_test[X_test['event'] == 1] # vendidas\n",
    "X_test_no_vend = X_test[X_test['event'] == 0] # no vendidas"
   ]
  },
  {
   "cell_type": "code",
   "execution_count": 32,
   "id": "4ba55db5-16bf-44fd-a866-45103f70f251",
   "metadata": {},
   "outputs": [],
   "source": [
    "y_pred_vend = model.predict(X_test_vend)\n",
    "y_pred_no_vend = model.predict(X_test_no_vend)"
   ]
  },
  {
   "cell_type": "code",
   "execution_count": 33,
   "id": "0e5300d2-debe-47d0-8b6d-80e035187997",
   "metadata": {},
   "outputs": [],
   "source": [
    "y_test_vend = y_test[X_test_vend.index]\n",
    "y_test_no_vend = y_test[X_test_no_vend.index]"
   ]
  },
  {
   "cell_type": "code",
   "execution_count": 34,
   "id": "d6a13570-22f0-41b6-885c-117a24d4d782",
   "metadata": {},
   "outputs": [
    {
     "data": {
      "text/plain": [
       "0.06246892552116077"
      ]
     },
     "execution_count": 34,
     "metadata": {},
     "output_type": "execute_result"
    }
   ],
   "source": [
    "mean_squared_error(y_pred_vend, y_test_vend)"
   ]
  },
  {
   "cell_type": "code",
   "execution_count": 35,
   "id": "834218c8-1e55-4f20-8cc4-52420d555a1e",
   "metadata": {},
   "outputs": [
    {
     "data": {
      "text/plain": [
       "0.3446801513162875"
      ]
     },
     "execution_count": 35,
     "metadata": {},
     "output_type": "execute_result"
    }
   ],
   "source": [
    "mean_squared_error(y_pred_no_vend, y_test_no_vend)"
   ]
  },
  {
   "cell_type": "markdown",
   "id": "8d60f760-7ccd-46ee-a143-355ad2976a76",
   "metadata": {},
   "source": [
    "Como se puede ver, claramente hay una mejor predicción para propiedades vendidas y suponemos que esto se debe a la cercanía de la variable `days_between_first_and_last_observed` a la variable target `time2event`. Esto coincide con lo que se estableció al principio del presente trabajo respecto a cómo se obtiene `time2event`."
   ]
  },
  {
   "cell_type": "markdown",
   "id": "a509b60a-48d8-4207-a333-467c590668fa",
   "metadata": {},
   "source": [
    " "
   ]
  }
 ],
 "metadata": {
  "kernelspec": {
   "display_name": "Python 3 (ipykernel)",
   "language": "python",
   "name": "python3"
  },
  "language_info": {
   "codemirror_mode": {
    "name": "ipython",
    "version": 3
   },
   "file_extension": ".py",
   "mimetype": "text/x-python",
   "name": "python",
   "nbconvert_exporter": "python",
   "pygments_lexer": "ipython3",
   "version": "3.11.6"
  }
 },
 "nbformat": 4,
 "nbformat_minor": 5
}
